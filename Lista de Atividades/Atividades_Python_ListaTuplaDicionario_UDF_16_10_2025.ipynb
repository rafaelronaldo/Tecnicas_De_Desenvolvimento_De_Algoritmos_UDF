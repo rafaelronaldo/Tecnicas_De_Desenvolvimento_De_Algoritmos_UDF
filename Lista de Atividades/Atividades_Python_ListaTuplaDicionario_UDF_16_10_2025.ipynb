{
  "nbformat": 4,
  "nbformat_minor": 0,
  "metadata": {
    "colab": {
      "provenance": [],
      "authorship_tag": "ABX9TyPIfpImFePRMyAvRrXlMbJo",
      "include_colab_link": true
    },
    "kernelspec": {
      "name": "python3",
      "display_name": "Python 3"
    },
    "language_info": {
      "name": "python"
    }
  },
  "cells": [
    {
      "cell_type": "markdown",
      "metadata": {
        "id": "view-in-github",
        "colab_type": "text"
      },
      "source": [
        "<a href=\"https://colab.research.google.com/github/rafaelronaldo/Tecnicas_De_Desenvolvimento_De_Algoritmos_UDF/blob/main/Lista%20de%20Atividades/Atividades_Python_ListaTuplaDicionario_UDF_16_10_2025.ipynb\" target=\"_parent\"><img src=\"https://colab.research.google.com/assets/colab-badge.svg\" alt=\"Open In Colab\"/></a>"
      ]
    },
    {
      "cell_type": "markdown",
      "source": [
        "❑ Introdução\n",
        "\n",
        "❑ Listas\n",
        "\n",
        "❑ Exemplos e Exercı́cios\n"
      ],
      "metadata": {
        "id": "LYkEkhZ2Tizb"
      }
    },
    {
      "cell_type": "markdown",
      "source": [
        "● Uma lista em Python é uma estrutura que armazena vários dados,\n",
        "que podem ser de um mesmo tipo ou não.\n",
        "\n",
        "● Uma lista é criada como a construção: [dado1\n",
        ",dado2\n",
        ",...,dadon\n",
        "]"
      ],
      "metadata": {
        "id": "qGZQXb7mT3tP"
      }
    },
    {
      "cell_type": "code",
      "source": [
        "lista1 = [10, 20, 30, 40]\n",
        "lista2 = [\"programação\", \"UDF\", \"python\"]\n",
        "lista3 = [\"oi\", 2.0, 5, [10, 20]]\n",
        "\n",
        "print(lista1)\n",
        "print(lista2)\n",
        "print(lista3)\n",
        "lista1[0]"
      ],
      "metadata": {
        "colab": {
          "base_uri": "https://localhost:8080/"
        },
        "id": "PlYG4dW9UMN-",
        "outputId": "a2ba98fe-15a4-4829-b8ac-5e2d828fa6ed"
      },
      "execution_count": 7,
      "outputs": [
        {
          "output_type": "stream",
          "name": "stdout",
          "text": [
            "[10, 20, 30, 40]\n",
            "['programação', 'UDF', 'python']\n",
            "['oi', 2.0, 5, [10, 20]]\n"
          ]
        },
        {
          "output_type": "execute_result",
          "data": {
            "text/plain": [
              "10"
            ]
          },
          "metadata": {},
          "execution_count": 7
        }
      ]
    },
    {
      "cell_type": "markdown",
      "source": [
        "● Suponha que desejamos guardar notas de alunos.\n",
        "\n",
        "● Com o que sabemos, como armazenarı́amos 3\n",
        "notas?"
      ],
      "metadata": {
        "id": "SMG0fYGhVrN9"
      }
    },
    {
      "cell_type": "code",
      "source": [
        "nota1 = float(input(\"Entre com a nota 1: \"))\n",
        "nota2 = float(input(\"Entre com a nota 2: \"))\n",
        "nota3 = float(input(\"Entre com a nota 3: \"))"
      ],
      "metadata": {
        "colab": {
          "base_uri": "https://localhost:8080/"
        },
        "id": "YQQziVsYVsG9",
        "outputId": "83aee3c5-e6d5-42bd-b1f5-25a8558dab09"
      },
      "execution_count": 9,
      "outputs": [
        {
          "name": "stdout",
          "output_type": "stream",
          "text": [
            "Entre com a nota 1: 5\n",
            "Entre com a nota 2: 6\n",
            "Entre com a nota 3: 8\n"
          ]
        }
      ]
    },
    {
      "cell_type": "code",
      "source": [
        "notas = [8.0, 5.5, 9.3, 7.6, 3.1]\n",
        "print(notas[0])\n",
        "print(notas[1])\n",
        "print(notas[2])\n",
        "print(notas[3])\n",
        "print(notas[4])\n",
        "print(type(notas), len(notas))\n",
        "x = 9\n",
        "y = 9\n",
        "notas = [[x+y], 5.5, 9.3, 7.6, 3.1]\n",
        "print(notas)"
      ],
      "metadata": {
        "colab": {
          "base_uri": "https://localhost:8080/"
        },
        "id": "5Q9U5oNkVwaF",
        "outputId": "36d5daee-da96-4a5e-f148-f6716f417d8f"
      },
      "execution_count": 17,
      "outputs": [
        {
          "output_type": "stream",
          "name": "stdout",
          "text": [
            "8.0\n",
            "5.5\n",
            "9.3\n",
            "7.6\n",
            "3.1\n",
            "<class 'list'> 5\n",
            "[[18], 5.5, 9.3, 7.6, 3.1]\n"
          ]
        }
      ]
    },
    {
      "cell_type": "code",
      "source": [
        "notas=[8.0, 5.5, 9.3, 7.6, 3.1]\n",
        "print(notas)\n"
      ],
      "metadata": {
        "colab": {
          "base_uri": "https://localhost:8080/"
        },
        "id": "zNwtUQO7eRDa",
        "outputId": "aba8c516-dfde-4a8e-ffb1-7b7556e8a722"
      },
      "execution_count": 20,
      "outputs": [
        {
          "output_type": "stream",
          "name": "stdout",
          "text": [
            "[8.0, 5.5, 9.3, 7.6, 3.1]\n"
          ]
        }
      ]
    },
    {
      "cell_type": "code",
      "source": [
        "print(notas[0]+2)"
      ],
      "metadata": {
        "colab": {
          "base_uri": "https://localhost:8080/"
        },
        "id": "nVYRwmOwfASR",
        "outputId": "a7cf3c44-92cb-43e4-d44e-494b85b2a681"
      },
      "execution_count": 21,
      "outputs": [
        {
          "output_type": "stream",
          "name": "stdout",
          "text": [
            "10.0\n"
          ]
        }
      ]
    },
    {
      "cell_type": "code",
      "source": [
        "notas[3] = 0.5\n",
        "print(notas)\n"
      ],
      "metadata": {
        "colab": {
          "base_uri": "https://localhost:8080/"
        },
        "id": "L4GU3JtnfGpK",
        "outputId": "a05d3f90-f42d-4dd6-fd10-a7c9b44b4a95"
      },
      "execution_count": 24,
      "outputs": [
        {
          "output_type": "stream",
          "name": "stdout",
          "text": [
            "[8.0, 5.5, 9.3, 0.5, 3.1]\n"
          ]
        }
      ]
    },
    {
      "cell_type": "code",
      "source": [
        "for contador in range(0,5):\n",
        "  print(notas[contador])"
      ],
      "metadata": {
        "colab": {
          "base_uri": "https://localhost:8080/"
        },
        "id": "-nX-TSnYfZvf",
        "outputId": "aabc8ef8-5501-40f6-a5b5-d9ae5718eda0"
      },
      "execution_count": 27,
      "outputs": [
        {
          "output_type": "stream",
          "name": "stdout",
          "text": [
            "8.0\n",
            "5.5\n",
            "9.3\n",
            "0.5\n",
            "3.1\n"
          ]
        }
      ]
    },
    {
      "cell_type": "code",
      "source": [
        "lista = [0, 0, 0, 0, 0, 0, 0, 0, 0, 0,]\n",
        "for contador in range (10):\n",
        "  lista[contador] = 5 * contador\n",
        "print(lista)\n"
      ],
      "metadata": {
        "colab": {
          "base_uri": "https://localhost:8080/"
        },
        "id": "YKu6BDnEgo4W",
        "outputId": "3ca71467-8a53-4b64-c581-a737a68525f5"
      },
      "execution_count": 28,
      "outputs": [
        {
          "output_type": "stream",
          "name": "stdout",
          "text": [
            "[0, 5, 10, 15, 20, 25, 30, 35, 40, 45]\n"
          ]
        }
      ]
    },
    {
      "cell_type": "code",
      "source": [
        "notas = [8.0, 5.5, 9.3, 0.5, 3.1]\n",
        "print(notas[-1])\n",
        "print(notas[-2])\n",
        "print(notas[-3])\n",
        "print(notas[-4])\n",
        "print(notas[-5])\n"
      ],
      "metadata": {
        "colab": {
          "base_uri": "https://localhost:8080/"
        },
        "id": "CxWf2zf9iDZh",
        "outputId": "3e82a362-e890-4f29-b464-2b711a17bf61"
      },
      "execution_count": 36,
      "outputs": [
        {
          "output_type": "stream",
          "name": "stdout",
          "text": [
            "3.1\n",
            "0.5\n",
            "9.3\n",
            "5.5\n",
            "8.0\n"
          ]
        }
      ]
    },
    {
      "cell_type": "code",
      "source": [
        "#sciling\n",
        "print(notas[0:4])"
      ],
      "metadata": {
        "colab": {
          "base_uri": "https://localhost:8080/"
        },
        "id": "wicMG44FjLqu",
        "outputId": "9eae9860-75ee-4dea-acdd-f3621e81ce04"
      },
      "execution_count": 45,
      "outputs": [
        {
          "output_type": "stream",
          "name": "stdout",
          "text": [
            "[8.0, 5.5, 9.3, 0.5]\n"
          ]
        }
      ]
    },
    {
      "cell_type": "code",
      "source": [
        "#tamanho\n",
        "len(notas)"
      ],
      "metadata": {
        "colab": {
          "base_uri": "https://localhost:8080/"
        },
        "id": "sHV5FbehkOm1",
        "outputId": "97f4ee85-7048-4e8c-eb41-dc67318aecaa"
      },
      "execution_count": 46,
      "outputs": [
        {
          "output_type": "execute_result",
          "data": {
            "text/plain": [
              "5"
            ]
          },
          "metadata": {},
          "execution_count": 46
        }
      ]
    },
    {
      "cell_type": "code",
      "source": [
        "notas = [8.0, 5.5, 9.3, 0.5, 3.1]\n",
        "notas.append(9.5)\n",
        "print(notas)"
      ],
      "metadata": {
        "colab": {
          "base_uri": "https://localhost:8080/"
        },
        "id": "q1P65n6jkflk",
        "outputId": "37f4938d-434b-470c-e027-b5aa4ef7e0d6"
      },
      "execution_count": 56,
      "outputs": [
        {
          "output_type": "stream",
          "name": "stdout",
          "text": [
            "[8.0, 5.5, 9.3, 0.5, 3.1, 9.5]\n"
          ]
        }
      ]
    }
  ]
}