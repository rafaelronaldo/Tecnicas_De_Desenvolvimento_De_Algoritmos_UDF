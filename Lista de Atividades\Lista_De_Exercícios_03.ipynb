{
  "nbformat": 4,
  "nbformat_minor": 0,
  "metadata": {
    "colab": {
      "provenance": [],
      "authorship_tag": "ABX9TyNITHwdJ72KRFbpYfb27MRA",
      "include_colab_link": true
    },
    "kernelspec": {
      "name": "python3",
      "display_name": "Python 3"
    },
    "language_info": {
      "name": "python"
    }
  },
  "cells": [
    {
      "cell_type": "markdown",
      "metadata": {
        "id": "view-in-github",
        "colab_type": "text"
      },
      "source": [
        "<a href=\"https://colab.research.google.com/github/rafaelronaldo/Tecnicas_De_Desenvolvimento_De_Algoritmos_UDF/blob/main/Lista%20de%20Atividades%5CLista_De_Exerc%C3%ADcios_03.ipynb\" target=\"_parent\"><img src=\"https://colab.research.google.com/assets/colab-badge.svg\" alt=\"Open In Colab\"/></a>"
      ]
    },
    {
      "cell_type": "markdown",
      "source": [
        "1. Elabore um algoritmo que imprima na tela lado a lado o texto \"Hello World!\" 10 vezes."
      ],
      "metadata": {
        "id": "Wr_5aYK17Chh"
      }
    },
    {
      "cell_type": "code",
      "source": [
        "for contador in range(1, 11):\n",
        "  print(\"Hello World!\", end=\" \")"
      ],
      "metadata": {
        "id": "GdBt34Ch7D7w"
      },
      "execution_count": null,
      "outputs": []
    },
    {
      "cell_type": "markdown",
      "source": [
        "2. Elabore um algoritmo que imprima na tela o texto \"Hello World!\" 10 vezes, um por linha."
      ],
      "metadata": {
        "id": "ssaBya2F7Xby"
      }
    },
    {
      "cell_type": "code",
      "source": [
        "for contador in range(1, 11):\n",
        "  print(\"Hello World!\")"
      ],
      "metadata": {
        "id": "hwCK1ZOG7aDJ"
      },
      "execution_count": null,
      "outputs": []
    },
    {
      "cell_type": "markdown",
      "source": [
        "3. Elabore um algoritmo que imprima todos os números inteiros de 1 até 100 inclusive."
      ],
      "metadata": {
        "id": "SUi_ThLD73up"
      }
    },
    {
      "cell_type": "code",
      "source": [
        "for contador in range(1, 101):\n",
        "  print(contador)\n"
      ],
      "metadata": {
        "id": "myRcQ2u275CI"
      },
      "execution_count": null,
      "outputs": []
    },
    {
      "cell_type": "markdown",
      "source": [
        "4. Elabore um algoritmo que imprima 100 vezes o texto \"1- Hello World!\" com o número."
      ],
      "metadata": {
        "id": "OA8kHZzg8REN"
      }
    },
    {
      "cell_type": "code",
      "source": [
        "for contador in range(1, 101):\n",
        "  print(\"{} - Hello World!\".format(contador))"
      ],
      "metadata": {
        "id": "OEHS38VP8Tkt"
      },
      "execution_count": null,
      "outputs": []
    },
    {
      "cell_type": "markdown",
      "source": [
        "5. Elabore um algoritmo que imprima todos os números decrescentes de 100 até 0 inclusive."
      ],
      "metadata": {
        "id": "ct45fb7X8gQk"
      }
    },
    {
      "cell_type": "code",
      "source": [
        "for contador in range(100, -1, -1):\n",
        "  print(contador)"
      ],
      "metadata": {
        "id": "CzAUwO1V8iLP"
      },
      "execution_count": null,
      "outputs": []
    },
    {
      "cell_type": "markdown",
      "source": [
        "6.  Elabore um algoritmo que imprima todos os números pares inteiros de 1 até 1000."
      ],
      "metadata": {
        "id": "-43AO0CH83ff"
      }
    },
    {
      "cell_type": "code",
      "source": [
        "for contador in range(2, 1002, 2):\n",
        "  print(contador)"
      ],
      "metadata": {
        "id": "biWUUinT83-b"
      },
      "execution_count": null,
      "outputs": []
    },
    {
      "cell_type": "markdown",
      "source": [
        "7. Elabore um algoritmo que imprima todos os números ímpares de 1000 até 0.\n"
      ],
      "metadata": {
        "id": "h7uVP28b9iqD"
      }
    },
    {
      "cell_type": "code",
      "source": [
        "for contador in range(999, -2, -2):\n",
        "  print(contador)"
      ],
      "metadata": {
        "id": "vROPtSAl9jn7"
      },
      "execution_count": null,
      "outputs": []
    },
    {
      "cell_type": "markdown",
      "source": [
        "8. Elabore um algoritmo que imprima a soma dos 100 primeiros números inteiros positivos.  \n",
        "\n",
        "\n",
        "\n"
      ],
      "metadata": {
        "id": "8WEoAJKZ-ExH"
      }
    },
    {
      "cell_type": "code",
      "source": [
        "soma = 0\n",
        "for contador in range(1, 101):\n",
        "  soma = soma + contador\n",
        "print(\"A soma dos 100 primeiros números inteiros é de {}\".format(soma))"
      ],
      "metadata": {
        "id": "-1pnRBHo-GQ8"
      },
      "execution_count": null,
      "outputs": []
    },
    {
      "cell_type": "markdown",
      "source": [
        "9. Elabore um algoritmo que solicite ao usuário um número inteiro que indicará a quantidade\n",
        "de vezes que o texto \"Hello World!\" será impresso na tela, um em cada linha."
      ],
      "metadata": {
        "id": "my1TUyg9_Fvx"
      }
    },
    {
      "cell_type": "code",
      "source": [
        "quantidade = int(input(\"Digite a quantidade de vezes: \"))\n",
        "for contador in range(0, quantidade):\n",
        "  print(\"Hello World!\")"
      ],
      "metadata": {
        "id": "xK3pY7Y7_nz6"
      },
      "execution_count": null,
      "outputs": []
    },
    {
      "cell_type": "markdown",
      "source": [
        "10. Elabore um algoritmo que solicite ao usuário uma palavra e um número inteiro que\n",
        "indicará a quantidade de vezes que a palavra digitada será impressa na tela, um em cada\n",
        "linha."
      ],
      "metadata": {
        "id": "pZFHhmJO_8Bz"
      }
    },
    {
      "cell_type": "code",
      "source": [
        "palavra = str(input(\"Digite uma palavra: \"))\n",
        "numero = int(input(\"Digite um número inteiro: \"))\n",
        "for contador in range(0, numero):\n",
        "  print(palavra)"
      ],
      "metadata": {
        "id": "dCCvhmBN_-ze"
      },
      "execution_count": null,
      "outputs": []
    },
    {
      "cell_type": "markdown",
      "source": [
        "11. Elabore um algoritmo que leia um número de entrada que indicará a quantidade de\n",
        "números a serem lidos. Em seguida, leia n números (conforme o valor informado\n",
        "anteriormente) e imprima a soma e a média aritmética dos números informados."
      ],
      "metadata": {
        "id": "A6oaAkYNAebw"
      }
    },
    {
      "cell_type": "code",
      "source": [
        "soma = 0\n",
        "quantidade = int(input(\"Digite a quantidade: \"))\n",
        "for contador in range(0, quantidade):\n",
        "  numero = int(input(\"Digite um número: \"))\n",
        "  soma = soma + numero\n",
        "  media = soma / quantidade\n",
        "print(\"A soma entre os números é de {}\".format(soma))\n",
        "print(\"A média entre os números é de {}\".format(media))\n",
        "\n"
      ],
      "metadata": {
        "id": "_OA_yX2nAfGM"
      },
      "execution_count": null,
      "outputs": []
    },
    {
      "cell_type": "markdown",
      "source": [
        "12. Elabore um algoritmo que leia um número de entrada que indicará a quantidade de\n",
        "registros a serem lidos (N). Em seguida algoritmo deve solicitar o nome e idade de N\n",
        "pessoas e ao final apresentar o nome da pessoa mais velha."
      ],
      "metadata": {
        "id": "VeNw2lDyBC2a"
      }
    },
    {
      "cell_type": "code",
      "source": [
        "quantidade = int(input(\"Digite a quantidade: \"))\n",
        "\n",
        "mais_velho_idade = -1\n",
        "mais_velho_nome = \"\"\n",
        "\n",
        "for contador in range(0, quantidade):\n",
        "  nome = str(input(\"Digite seu nome: \"))\n",
        "  idade = int(input(\"Digite sua idade: \"))\n",
        "  if idade > mais_velho_idade:\n",
        "    mais_velho_idade = idade\n",
        "    mais_velho_nome = nome\n",
        "print(\"A pessoa mais velha se chama {} e tem {} de idade.\".format(mais_velho_nome, mais_velho_idade))"
      ],
      "metadata": {
        "id": "O0DkzZW0BGJS"
      },
      "execution_count": null,
      "outputs": []
    },
    {
      "cell_type": "markdown",
      "source": [
        "13. Elabore um algoritmo que leia um número de entrada que indicará a quantidade de\n",
        "registros a serem lidos (N). Em seguida algoritmo deve solicitar o sexo (M/F) e idade de N\n",
        "pessoas e ao final apresentar a média de idade de ambos os gêneros catalogados."
      ],
      "metadata": {
        "id": "3coOplXGxzwz"
      }
    },
    {
      "cell_type": "code",
      "source": [
        "quantidade_registro = int(input(\"Digite a quantidade de registros: \"))\n",
        "somaidade_m = 0\n",
        "contador_m = 0\n",
        "somaidade_f = 0\n",
        "contador_f = 0\n",
        "for contador in range(1, quantidade_registro + 1):\n",
        "  sexo = str(input(\"Digite o seu sexo (M/F):\")).upper()\n",
        "  idade = int(input(\"Digite sua idade: \"))\n",
        "  if sexo == \"M\":\n",
        "    somaidade_m = somaidade_m + idade\n",
        "    contador_m += 1\n",
        "    media_idade_m = somaidade_m / contador_m\n",
        "  elif sexo == \"F\":\n",
        "    somaidade_f = somaidade_f + idade\n",
        "    contador_f += 1\n",
        "    media_idade_f = somaidade_f / contador_f\n",
        "print(\"A média de idade do sexo masculino é de {}\".format(media_idade_m))\n",
        "print(\"A média de idade do sexo feminino é de {}\".format(media_idade_f))\n"
      ],
      "metadata": {
        "colab": {
          "base_uri": "https://localhost:8080/"
        },
        "id": "zMXOtgr9x0SX",
        "outputId": "5cc498ba-2087-44d6-9dad-1ec22fc918c2"
      },
      "execution_count": null,
      "outputs": [
        {
          "output_type": "stream",
          "name": "stdout",
          "text": [
            "Digite a quantidade de registros: 4\n",
            "Digite o seu sexo (M/F):m\n",
            "Digite sua idade: 20\n",
            "Digite o seu sexo (M/F):f\n",
            "Digite sua idade: 18\n",
            "Digite o seu sexo (M/F):m\n",
            "Digite sua idade: 22\n",
            "Digite o seu sexo (M/F):f\n",
            "Digite sua idade: 20\n",
            "A média de idade do sexo masculino é de 21.0\n",
            "A média de idade do sexo feminino é de 19.0\n"
          ]
        }
      ]
    },
    {
      "cell_type": "markdown",
      "source": [
        "14. Elabore um algoritmo que solicite ao usuário 10 números reais e ao final apresente o\n",
        "maior e o menor deles."
      ],
      "metadata": {
        "id": "-XHHTjZ2zozt"
      }
    },
    {
      "cell_type": "code",
      "source": [
        "numero = float(input(\"Digite um número: \"))\n",
        "maior_numero = numero\n",
        "menor_numero = numero\n",
        "for contador in range (1, 10):\n",
        "  numero = float(input(\"Digite um número: \"))\n",
        "  if numero > maior_numero:\n",
        "    maior_numero = numero\n",
        "  elif numero > menor_numero:\n",
        "    menor_numero = numero\n",
        "print(\"O maior número foi {}\".format(maior_numero))\n",
        "print(\"O menor número foi {}\".format(menor_numero))\n"
      ],
      "metadata": {
        "colab": {
          "base_uri": "https://localhost:8080/"
        },
        "id": "0BosTrkrzqep",
        "outputId": "99d10222-c29b-4810-94f4-11cc7720ac85"
      },
      "execution_count": null,
      "outputs": [
        {
          "output_type": "stream",
          "name": "stdout",
          "text": [
            "Digite um número: 10\n",
            "Digite um número: 20\n",
            "Digite um número: 30\n",
            "Digite um número: 40\n",
            "Digite um número: 50\n",
            "Digite um número: 60\n",
            "Digite um número: 70\n",
            "Digite um número: 80\n",
            "Digite um número: 90\n",
            "Digite um número: 100\n",
            "O maior número foi 100.0\n",
            "O menor número foi 10.0\n"
          ]
        }
      ]
    },
    {
      "cell_type": "markdown",
      "source": [
        "15. Elabore um algoritmo que solicite N números reais e quando o usuário informar o valor\n",
        "nulo 0 (zero) o programa ordene e mostre todos os números informados de forma crescente. ***(Não consegui fazer)***"
      ],
      "metadata": {
        "id": "3kqIMVfrnbhR"
      }
    },
    {
      "cell_type": "code",
      "source": [],
      "metadata": {
        "id": "H1Fx59YSncGf"
      },
      "execution_count": null,
      "outputs": []
    },
    {
      "cell_type": "markdown",
      "source": [
        "16. Escreva um programa que vá solicitando as idades dos alunos da sala até que todos\n",
        "sejam informados (perguntar ao usuário se deseja informar a idade do próximo aluno). Ao\n",
        "final apresentar a idade do mais novo, a idade do mais velho, Quantos alunos têm mais de\n",
        "18 anos, quantos alunos têm até 18 anos, a média aritmética e a mediana."
      ],
      "metadata": {
        "id": "W-tyoL3IqMMJ"
      }
    },
    {
      "cell_type": "code",
      "source": [
        "quantidade_aluno = int(input(\"Digite a quantidade de alunos: \"))\n",
        "primeira_idade = int(input(\"Digite a 1º idade: \"))\n",
        "mais_velho = primeira_idade\n",
        "mais_novo = primeira_idade\n",
        "mais_de_18 = 0\n",
        "tem_ate_18anos = 0\n",
        "if primeira_idade > 18:\n",
        "  mais_de_18 += 1\n",
        "else:\n",
        "  tem_ate_18anos += 1\n",
        "for contador in range (2, quantidade_aluno + 1):\n",
        "  idade = int(input(\"Digite a {} idade: \".format(contador)))\n",
        "  if idade > mais_velho:\n",
        "    mais_velho = idade\n",
        "  elif idade < mais_novo:\n",
        "    mais_novo = idade\n",
        "  if idade > 18:\n",
        "    mais_de_18 += 1\n",
        "  elif idade <= 18:\n",
        "    tem_ate_18anos += 1\n",
        "print(\"A idade do mais novo é de {}\".format(mais_novo))\n",
        "print(\"A idade do mais velho é de {}\".format(mais_velho))\n",
        "print(\"A quantidade de alunos mais de 18 anos é de: {}\".format(mais_de_18))\n",
        "print(\"A quantidade de alunos até 18 anos é de: {}\".format(tem_ate_18anos))\n"
      ],
      "metadata": {
        "colab": {
          "base_uri": "https://localhost:8080/"
        },
        "id": "2qlqorq0qMr2",
        "outputId": "05abd955-d059-4689-b251-c05072bcf729"
      },
      "execution_count": null,
      "outputs": [
        {
          "output_type": "stream",
          "name": "stdout",
          "text": [
            "Digite a quantidade de alunos: 4\n",
            "Digite a 1º idade: 17\n",
            "Digite a 2 idade: 20\n",
            "Digite a 3 idade: 18\n",
            "Digite a 4 idade: 22\n",
            "A idade do mais novo é de 17\n",
            "A idade do mais velho é de 22\n",
            "A quantidade de alunos mais de 18 anos é de: 2\n",
            "A quantidade de alunos até 18 anos é de: 2\n"
          ]
        }
      ]
    }
  ]
}